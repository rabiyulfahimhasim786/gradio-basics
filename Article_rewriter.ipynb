{
  "nbformat": 4,
  "nbformat_minor": 0,
  "metadata": {
    "colab": {
      "provenance": [],
      "authorship_tag": "ABX9TyN0GpWDyaoEV/JQ4DpPS59k",
      "include_colab_link": true
    },
    "kernelspec": {
      "name": "python3",
      "display_name": "Python 3"
    },
    "language_info": {
      "name": "python"
    }
  },
  "cells": [
    {
      "cell_type": "markdown",
      "metadata": {
        "id": "view-in-github",
        "colab_type": "text"
      },
      "source": [
        "<a href=\"https://colab.research.google.com/github/rabiyulfahimhasim786/gradio-basics/blob/main/Article_rewriter.ipynb\" target=\"_parent\"><img src=\"https://colab.research.google.com/assets/colab-badge.svg\" alt=\"Open In Colab\"/></a>"
      ]
    },
    {
      "cell_type": "code",
      "execution_count": 4,
      "metadata": {
        "colab": {
          "base_uri": "https://localhost:8080/"
        },
        "id": "Su6TGJKXUs0s",
        "outputId": "5a2f11ce-957e-4684-c7b9-ae1e6e2e0285"
      },
      "outputs": [
        {
          "output_type": "stream",
          "name": "stdout",
          "text": [
            "Looking in indexes: https://pypi.org/simple, https://us-python.pkg.dev/colab-wheels/public/simple/\n",
            "Requirement already satisfied: nltk in /usr/local/lib/python3.8/dist-packages (3.7)\n",
            "Requirement already satisfied: regex>=2021.8.3 in /usr/local/lib/python3.8/dist-packages (from nltk) (2022.6.2)\n",
            "Requirement already satisfied: joblib in /usr/local/lib/python3.8/dist-packages (from nltk) (1.2.0)\n",
            "Requirement already satisfied: tqdm in /usr/local/lib/python3.8/dist-packages (from nltk) (4.64.1)\n",
            "Requirement already satisfied: click in /usr/local/lib/python3.8/dist-packages (from nltk) (7.1.2)\n"
          ]
        }
      ],
      "source": [
        "!pip install nltk"
      ]
    },
    {
      "cell_type": "code",
      "source": [
        "import nltk\n",
        "nltk.download('punkt')\n",
        "nltk.download('wordnet')\n",
        "nltk.download('omw-1.4')"
      ],
      "metadata": {
        "colab": {
          "base_uri": "https://localhost:8080/"
        },
        "id": "b8NQhvZeVZSv",
        "outputId": "fc403116-4cba-45c5-d6e2-5bc5d15f2b79"
      },
      "execution_count": 10,
      "outputs": [
        {
          "output_type": "stream",
          "name": "stderr",
          "text": [
            "[nltk_data] Downloading package punkt to /root/nltk_data...\n",
            "[nltk_data]   Package punkt is already up-to-date!\n",
            "[nltk_data] Downloading package wordnet to /root/nltk_data...\n",
            "[nltk_data]   Package wordnet is already up-to-date!\n",
            "[nltk_data] Downloading package omw-1.4 to /root/nltk_data...\n"
          ]
        },
        {
          "output_type": "execute_result",
          "data": {
            "text/plain": [
              "True"
            ]
          },
          "metadata": {},
          "execution_count": 10
        }
      ]
    },
    {
      "cell_type": "code",
      "source": [
        "import numpy as np\n",
        "from textblob import TextBlob\n",
        "from nltk.corpus import wordnet"
      ],
      "metadata": {
        "id": "GqRajuXkUyuP"
      },
      "execution_count": 1,
      "outputs": []
    },
    {
      "cell_type": "code",
      "source": [
        "text = input(\"Enter the text to be rewritten: \")"
      ],
      "metadata": {
        "colab": {
          "base_uri": "https://localhost:8080/"
        },
        "id": "pabn13cJU4k_",
        "outputId": "8b4e5dfc-0c1d-4dda-b64c-736ac555563e"
      },
      "execution_count": 2,
      "outputs": [
        {
          "name": "stdout",
          "output_type": "stream",
          "text": [
            "Enter the text to be rewritten: #1 Managed Magento Hosting Provider Lightning-fast managed Magento 2 hosting solution optimized with the latest & powerful stack which includes: Redis Cache, Varnish Cache, MySQL 8.0, Elasticsearch, and more.\n"
          ]
        }
      ]
    },
    {
      "cell_type": "code",
      "source": [
        "text = text.lower()  # Convert the text to lowercase\n",
        "blob = TextBlob(text)  # Create a TextBlob object\n",
        "sentences = blob.sentences  # Tokenize the text into sentences"
      ],
      "metadata": {
        "id": "jSKZDgKbU6sg"
      },
      "execution_count": 6,
      "outputs": []
    },
    {
      "cell_type": "code",
      "source": [
        "def synonym_replacement(word, pos=None):\n",
        "    synonyms = []\n",
        "    for syn in wordnet.synsets(word, pos=pos):\n",
        "        for lemma in syn.lemmas():\n",
        "            synonym = lemma.name().replace(\"_\", \" \").lower()\n",
        "            if synonym != word:\n",
        "                synonyms.append(synonym)\n",
        "    if synonyms:\n",
        "        return np.random.choice(synonyms)\n",
        "    else:\n",
        "        return None\n",
        "\n",
        "def replace_words(sentence):\n",
        "    words = sentence.words\n",
        "    new_words = []\n",
        "    for word in words:\n",
        "        new_word = synonym_replacement(word)\n",
        "        if new_word is None:\n",
        "            new_words.append(word)\n",
        "        else:\n",
        "            new_words.append(new_word)\n",
        "    return \" \".join(new_words)\n",
        "  \n",
        "rewritten_text = \"\"\n",
        "for sentence in sentences:\n",
        "    new_sentence = replace_words(sentence)\n",
        "    rewritten_text += new_sentence + \" \""
      ],
      "metadata": {
        "id": "ID8AX7PwVH05"
      },
      "execution_count": 11,
      "outputs": []
    },
    {
      "cell_type": "code",
      "source": [
        "print(\"Original text:\")\n",
        "print(text)\n",
        "print(\"\\nRewritten text:\")\n",
        "print(rewritten_text)"
      ],
      "metadata": {
        "colab": {
          "base_uri": "https://localhost:8080/"
        },
        "id": "xNGOYJMQVMo-",
        "outputId": "23ba586b-03d4-4e2f-b4d4-f1d2edb52314"
      },
      "execution_count": 12,
      "outputs": [
        {
          "output_type": "stream",
          "name": "stdout",
          "text": [
            "Original text:\n",
            "#1 managed magento hosting provider lightning-fast managed magento 2 hosting solution optimized with the latest & powerful stack which includes: redis cache, varnish cache, mysql 8.0, elasticsearch, and more.\n",
            "\n",
            "Rewritten text:\n",
            "ane deal magento host supplier lightning-fast pull off magento ii host resolution optimise with the late mighty heap which include redis squirrel away seal hoard mysql 8.0 elasticsearch and sir thomas more \n"
          ]
        }
      ]
    }
  ]
}